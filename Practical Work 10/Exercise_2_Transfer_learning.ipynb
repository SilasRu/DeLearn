{
  "nbformat": 4,
  "nbformat_minor": 0,
  "metadata": {
    "colab": {
      "name": "Exercise 2 - Transfer learning.ipynb",
      "provenance": []
    },
    "kernelspec": {
      "name": "python3",
      "display_name": "Python 3"
    },
    "accelerator": "GPU"
  },
  "cells": [
    {
      "cell_type": "code",
      "metadata": {
        "id": "4nY50RWgeoZB",
        "colab_type": "code",
        "outputId": "db8e09c3-4290-4069-d0a1-f750579cc9b8",
        "colab": {
          "base_uri": "https://localhost:8080/",
          "height": 1000
        }
      },
      "source": [
        "# Runtime/Change runtime type/GPU\n",
        "# Tensorflow 2.0.0\n",
        "!pip install --upgrade tensorflow-gpu"
      ],
      "execution_count": 2,
      "outputs": [
        {
          "output_type": "stream",
          "text": [
            "Collecting tensorflow-gpu\n",
            "\u001b[?25l  Downloading https://files.pythonhosted.org/packages/25/44/47f0722aea081697143fbcf5d2aa60d1aee4aaacb5869aee2b568974777b/tensorflow_gpu-2.0.0-cp36-cp36m-manylinux2010_x86_64.whl (380.8MB)\n",
            "\u001b[K     |████████████████████████████████| 380.8MB 42kB/s \n",
            "\u001b[?25hCollecting tensorflow-estimator<2.1.0,>=2.0.0\n",
            "\u001b[?25l  Downloading https://files.pythonhosted.org/packages/fc/08/8b927337b7019c374719145d1dceba21a8bb909b93b1ad6f8fb7d22c1ca1/tensorflow_estimator-2.0.1-py2.py3-none-any.whl (449kB)\n",
            "\u001b[K     |████████████████████████████████| 450kB 52.6MB/s \n",
            "\u001b[?25hRequirement already satisfied, skipping upgrade: wheel>=0.26 in /usr/local/lib/python3.6/dist-packages (from tensorflow-gpu) (0.33.6)\n",
            "Requirement already satisfied, skipping upgrade: gast==0.2.2 in /usr/local/lib/python3.6/dist-packages (from tensorflow-gpu) (0.2.2)\n",
            "Requirement already satisfied, skipping upgrade: keras-preprocessing>=1.0.5 in /usr/local/lib/python3.6/dist-packages (from tensorflow-gpu) (1.1.0)\n",
            "Requirement already satisfied, skipping upgrade: absl-py>=0.7.0 in /usr/local/lib/python3.6/dist-packages (from tensorflow-gpu) (0.8.1)\n",
            "Requirement already satisfied, skipping upgrade: protobuf>=3.6.1 in /usr/local/lib/python3.6/dist-packages (from tensorflow-gpu) (3.10.0)\n",
            "Requirement already satisfied, skipping upgrade: astor>=0.6.0 in /usr/local/lib/python3.6/dist-packages (from tensorflow-gpu) (0.8.0)\n",
            "Requirement already satisfied, skipping upgrade: opt-einsum>=2.3.2 in /usr/local/lib/python3.6/dist-packages (from tensorflow-gpu) (3.1.0)\n",
            "Requirement already satisfied, skipping upgrade: google-pasta>=0.1.6 in /usr/local/lib/python3.6/dist-packages (from tensorflow-gpu) (0.1.8)\n",
            "Requirement already satisfied, skipping upgrade: six>=1.10.0 in /usr/local/lib/python3.6/dist-packages (from tensorflow-gpu) (1.12.0)\n",
            "Requirement already satisfied, skipping upgrade: termcolor>=1.1.0 in /usr/local/lib/python3.6/dist-packages (from tensorflow-gpu) (1.1.0)\n",
            "Requirement already satisfied, skipping upgrade: wrapt>=1.11.1 in /usr/local/lib/python3.6/dist-packages (from tensorflow-gpu) (1.11.2)\n",
            "Collecting tensorboard<2.1.0,>=2.0.0\n",
            "\u001b[?25l  Downloading https://files.pythonhosted.org/packages/76/54/99b9d5d52d5cb732f099baaaf7740403e83fe6b0cedde940fabd2b13d75a/tensorboard-2.0.2-py3-none-any.whl (3.8MB)\n",
            "\u001b[K     |████████████████████████████████| 3.8MB 38.1MB/s \n",
            "\u001b[?25hRequirement already satisfied, skipping upgrade: grpcio>=1.8.6 in /usr/local/lib/python3.6/dist-packages (from tensorflow-gpu) (1.15.0)\n",
            "Requirement already satisfied, skipping upgrade: keras-applications>=1.0.8 in /usr/local/lib/python3.6/dist-packages (from tensorflow-gpu) (1.0.8)\n",
            "Requirement already satisfied, skipping upgrade: numpy<2.0,>=1.16.0 in /usr/local/lib/python3.6/dist-packages (from tensorflow-gpu) (1.17.4)\n",
            "Requirement already satisfied, skipping upgrade: setuptools in /usr/local/lib/python3.6/dist-packages (from protobuf>=3.6.1->tensorflow-gpu) (41.6.0)\n",
            "Requirement already satisfied, skipping upgrade: werkzeug>=0.11.15 in /usr/local/lib/python3.6/dist-packages (from tensorboard<2.1.0,>=2.0.0->tensorflow-gpu) (0.16.0)\n",
            "Requirement already satisfied, skipping upgrade: requests<3,>=2.21.0 in /usr/local/lib/python3.6/dist-packages (from tensorboard<2.1.0,>=2.0.0->tensorflow-gpu) (2.21.0)\n",
            "Requirement already satisfied, skipping upgrade: google-auth-oauthlib<0.5,>=0.4.1 in /usr/local/lib/python3.6/dist-packages (from tensorboard<2.1.0,>=2.0.0->tensorflow-gpu) (0.4.1)\n",
            "Collecting google-auth<2,>=1.6.3\n",
            "\u001b[?25l  Downloading https://files.pythonhosted.org/packages/7b/cb/786dc53d93494784935a62947643b48250b84a882474e714f9af5e1a1928/google_auth-1.7.1-py2.py3-none-any.whl (74kB)\n",
            "\u001b[K     |████████████████████████████████| 81kB 12.6MB/s \n",
            "\u001b[?25hRequirement already satisfied, skipping upgrade: markdown>=2.6.8 in /usr/local/lib/python3.6/dist-packages (from tensorboard<2.1.0,>=2.0.0->tensorflow-gpu) (3.1.1)\n",
            "Requirement already satisfied, skipping upgrade: h5py in /usr/local/lib/python3.6/dist-packages (from keras-applications>=1.0.8->tensorflow-gpu) (2.8.0)\n",
            "Requirement already satisfied, skipping upgrade: urllib3<1.25,>=1.21.1 in /usr/local/lib/python3.6/dist-packages (from requests<3,>=2.21.0->tensorboard<2.1.0,>=2.0.0->tensorflow-gpu) (1.24.3)\n",
            "Requirement already satisfied, skipping upgrade: chardet<3.1.0,>=3.0.2 in /usr/local/lib/python3.6/dist-packages (from requests<3,>=2.21.0->tensorboard<2.1.0,>=2.0.0->tensorflow-gpu) (3.0.4)\n",
            "Requirement already satisfied, skipping upgrade: idna<2.9,>=2.5 in /usr/local/lib/python3.6/dist-packages (from requests<3,>=2.21.0->tensorboard<2.1.0,>=2.0.0->tensorflow-gpu) (2.8)\n",
            "Requirement already satisfied, skipping upgrade: certifi>=2017.4.17 in /usr/local/lib/python3.6/dist-packages (from requests<3,>=2.21.0->tensorboard<2.1.0,>=2.0.0->tensorflow-gpu) (2019.9.11)\n",
            "Requirement already satisfied, skipping upgrade: requests-oauthlib>=0.7.0 in /usr/local/lib/python3.6/dist-packages (from google-auth-oauthlib<0.5,>=0.4.1->tensorboard<2.1.0,>=2.0.0->tensorflow-gpu) (1.3.0)\n",
            "Requirement already satisfied, skipping upgrade: cachetools<3.2,>=2.0.0 in /usr/local/lib/python3.6/dist-packages (from google-auth<2,>=1.6.3->tensorboard<2.1.0,>=2.0.0->tensorflow-gpu) (3.1.1)\n",
            "Requirement already satisfied, skipping upgrade: rsa<4.1,>=3.1.4 in /usr/local/lib/python3.6/dist-packages (from google-auth<2,>=1.6.3->tensorboard<2.1.0,>=2.0.0->tensorflow-gpu) (4.0)\n",
            "Requirement already satisfied, skipping upgrade: pyasn1-modules>=0.2.1 in /usr/local/lib/python3.6/dist-packages (from google-auth<2,>=1.6.3->tensorboard<2.1.0,>=2.0.0->tensorflow-gpu) (0.2.7)\n",
            "Requirement already satisfied, skipping upgrade: oauthlib>=3.0.0 in /usr/local/lib/python3.6/dist-packages (from requests-oauthlib>=0.7.0->google-auth-oauthlib<0.5,>=0.4.1->tensorboard<2.1.0,>=2.0.0->tensorflow-gpu) (3.1.0)\n",
            "Requirement already satisfied, skipping upgrade: pyasn1>=0.1.3 in /usr/local/lib/python3.6/dist-packages (from rsa<4.1,>=3.1.4->google-auth<2,>=1.6.3->tensorboard<2.1.0,>=2.0.0->tensorflow-gpu) (0.4.7)\n",
            "\u001b[31mERROR: tensorflow 1.15.0 has requirement tensorboard<1.16.0,>=1.15.0, but you'll have tensorboard 2.0.2 which is incompatible.\u001b[0m\n",
            "\u001b[31mERROR: tensorflow 1.15.0 has requirement tensorflow-estimator==1.15.1, but you'll have tensorflow-estimator 2.0.1 which is incompatible.\u001b[0m\n",
            "\u001b[31mERROR: tensorboard 2.0.2 has requirement grpcio>=1.24.3, but you'll have grpcio 1.15.0 which is incompatible.\u001b[0m\n",
            "\u001b[31mERROR: google-colab 1.0.0 has requirement google-auth~=1.4.0, but you'll have google-auth 1.7.1 which is incompatible.\u001b[0m\n",
            "Installing collected packages: tensorflow-estimator, google-auth, tensorboard, tensorflow-gpu\n",
            "  Found existing installation: tensorflow-estimator 1.15.1\n",
            "    Uninstalling tensorflow-estimator-1.15.1:\n",
            "      Successfully uninstalled tensorflow-estimator-1.15.1\n",
            "  Found existing installation: google-auth 1.4.2\n",
            "    Uninstalling google-auth-1.4.2:\n",
            "      Successfully uninstalled google-auth-1.4.2\n",
            "  Found existing installation: tensorboard 1.15.0\n",
            "    Uninstalling tensorboard-1.15.0:\n",
            "      Successfully uninstalled tensorboard-1.15.0\n",
            "Successfully installed google-auth-1.7.1 tensorboard-2.0.2 tensorflow-estimator-2.0.1 tensorflow-gpu-2.0.0\n"
          ],
          "name": "stdout"
        },
        {
          "output_type": "display_data",
          "data": {
            "application/vnd.colab-display-data+json": {
              "pip_warning": {
                "packages": [
                  "google",
                  "tensorboard",
                  "tensorflow",
                  "tensorflow_core",
                  "tensorflow_estimator"
                ]
              }
            }
          },
          "metadata": {
            "tags": []
          }
        }
      ]
    },
    {
      "cell_type": "code",
      "metadata": {
        "id": "Iy4DPW7TeuIR",
        "colab_type": "code",
        "outputId": "4f4931aa-be2c-4e24-de92-bff6a0151832",
        "colab": {
          "base_uri": "https://localhost:8080/",
          "height": 36
        }
      },
      "source": [
        "import tensorflow as tf\n",
        "print(tf.__version__)"
      ],
      "execution_count": 1,
      "outputs": [
        {
          "output_type": "stream",
          "text": [
            "2.0.0\n"
          ],
          "name": "stdout"
        }
      ]
    },
    {
      "cell_type": "code",
      "metadata": {
        "id": "BPtxxKp9evkW",
        "colab_type": "code",
        "outputId": "28ad9e88-3c4a-40c5-b28e-cd656d60a332",
        "colab": {
          "base_uri": "https://localhost:8080/",
          "height": 185
        }
      },
      "source": [
        "# Import Graphviz\n",
        "!apt install -y graphviz\n",
        "!pip install graphviz"
      ],
      "execution_count": 2,
      "outputs": [
        {
          "output_type": "stream",
          "text": [
            "Reading package lists... Done\n",
            "Building dependency tree       \n",
            "Reading state information... Done\n",
            "graphviz is already the newest version (2.40.1-2).\n",
            "The following package was automatically installed and is no longer required:\n",
            "  libnvidia-common-430\n",
            "Use 'apt autoremove' to remove it.\n",
            "0 upgraded, 0 newly installed, 0 to remove and 32 not upgraded.\n",
            "Requirement already satisfied: graphviz in /usr/local/lib/python3.6/dist-packages (0.10.1)\n"
          ],
          "name": "stdout"
        }
      ]
    },
    {
      "cell_type": "code",
      "metadata": {
        "id": "1vPzWUb8exS8",
        "colab_type": "code",
        "colab": {}
      },
      "source": [
        "# Import libraries\n",
        "import numpy as np\n",
        "import pandas as pd\n",
        "import matplotlib.pyplot as plt\n",
        "import time\n",
        "\n",
        "# Use this libraries for preparing data\n",
        "from PIL import Image\n",
        "import os\n",
        "\n",
        "from tensorflow.keras.datasets import cifar10\n",
        "from tensorflow.keras.utils import plot_model\n",
        "from tensorflow.keras.models import Sequential, Model\n",
        "from tensorflow.keras.layers import Dense, Dropout, Flatten, Activation, Input\n",
        "from tensorflow.keras.layers import Conv2D, MaxPooling2D, BatchNormalization, concatenate\n",
        "from tensorflow.keras.callbacks import ModelCheckpoint\n",
        "from tensorflow.keras.preprocessing.image import ImageDataGenerator\n",
        "from tensorflow.keras import utils\n",
        "from sklearn.metrics import confusion_matrix\n",
        "\n",
        "%matplotlib inline"
      ],
      "execution_count": 0,
      "outputs": []
    },
    {
      "cell_type": "markdown",
      "metadata": {
        "id": "dDaxIP4DfZqt",
        "colab_type": "text"
      },
      "source": [
        "# Exercise 2 - Transfer learning"
      ]
    },
    {
      "cell_type": "markdown",
      "metadata": {
        "id": "FI6k1-7-zPH9",
        "colab_type": "text"
      },
      "source": [
        "### Prepare data"
      ]
    },
    {
      "cell_type": "code",
      "metadata": {
        "id": "tsifSsLAkTxE",
        "colab_type": "code",
        "outputId": "17aa1680-977d-4680-9035-8b9d20641079",
        "colab": {
          "base_uri": "https://localhost:8080/",
          "height": 129
        }
      },
      "source": [
        "# Run this code to load the cifar10 dataset. We save this images on the drive so we don't need to load this images again.\n",
        "\n",
        "(X_train, y_train), (X_test, y_test) = cifar10.load_data()\n",
        "print('training input shape : ', X_train.shape)\n",
        "print('training output shape: ', y_train.shape)\n",
        "print('testing input shape  : ', X_test.shape)\n",
        "print('testing output shape : ', y_test.shape)\n"
      ],
      "execution_count": 4,
      "outputs": [
        {
          "output_type": "stream",
          "text": [
            "Downloading data from https://www.cs.toronto.edu/~kriz/cifar-10-python.tar.gz\n",
            "170500096/170498071 [==============================] - 4s 0us/step\n",
            "training input shape :  (50000, 32, 32, 3)\n",
            "training output shape:  (50000, 1)\n",
            "testing input shape  :  (10000, 32, 32, 3)\n",
            "testing output shape :  (10000, 1)\n"
          ],
          "name": "stdout"
        }
      ]
    },
    {
      "cell_type": "code",
      "metadata": {
        "id": "5iylQmcBfd_A",
        "colab_type": "code",
        "outputId": "53f17a0d-e124-4033-f9b3-5017ee76fc12",
        "colab": {
          "base_uri": "https://localhost:8080/",
          "height": 130
        }
      },
      "source": [
        "# Run this code section to connect your google drive with google colaboratory\n",
        "\n",
        "from google.colab import drive\n",
        "drive.mount('/content/gdrive')\n"
      ],
      "execution_count": 5,
      "outputs": [
        {
          "output_type": "stream",
          "text": [
            "Go to this URL in a browser: https://accounts.google.com/o/oauth2/auth?client_id=947318989803-6bn6qk8qdgf4n4g3pfee6491hc0brc4i.apps.googleusercontent.com&redirect_uri=urn%3aietf%3awg%3aoauth%3a2.0%3aoob&response_type=code&scope=email%20https%3a%2f%2fwww.googleapis.com%2fauth%2fdocs.test%20https%3a%2f%2fwww.googleapis.com%2fauth%2fdrive%20https%3a%2f%2fwww.googleapis.com%2fauth%2fdrive.photos.readonly%20https%3a%2f%2fwww.googleapis.com%2fauth%2fpeopleapi.readonly\n",
            "\n",
            "Enter your authorization code:\n",
            "··········\n",
            "Mounted at /content/gdrive\n"
          ],
          "name": "stdout"
        }
      ]
    },
    {
      "cell_type": "code",
      "metadata": {
        "id": "zUwXZgI-qTBp",
        "colab_type": "code",
        "outputId": "07855390-e225-4482-dd89-7b9d42e2ce07",
        "colab": {
          "base_uri": "https://localhost:8080/",
          "height": 36
        }
      },
      "source": [
        "# Run this code section only if you have no such directory file\n",
        "\n",
        "os.chdir('/content/gdrive/My Drive')\n",
        "print(os.getcwd())\n",
        "\n",
        "os.mkdir('TSM_DeLearn_PW10')\n",
        "os.mkdir('TSM_DeLearn_PW10/data')\n",
        "os.mkdir('TSM_DeLearn_PW10/data/train')\n",
        "os.mkdir('TSM_DeLearn_PW10/data/test')\n",
        "\n",
        "for c in range(10):\n",
        "  os.mkdir('TSM_DeLearn_PW10/data/train/{}'.format(c))\n",
        "  os.mkdir('TSM_DeLearn_PW10/data/test/{}'.format(c))\n"
      ],
      "execution_count": 6,
      "outputs": [
        {
          "output_type": "stream",
          "text": [
            "/content/gdrive/My Drive\n"
          ],
          "name": "stdout"
        }
      ]
    },
    {
      "cell_type": "code",
      "metadata": {
        "id": "lT1kZd75nvhE",
        "colab_type": "code",
        "colab": {}
      },
      "source": [
        "# Run this code section only if you have not yet saved the images\n",
        "\n",
        "index = 0\n",
        "for i,im in enumerate(X_train):\n",
        "  image = Image.fromarray(im)\n",
        "  image.save(\"TSM_DeLearn_PW10/data/train/{}/{}.jpeg\".format(y_train[i][0], index))\n",
        "  index += 1\n",
        "  \n",
        "index = 0\n",
        "for i,im in enumerate(X_test):\n",
        "  image = Image.fromarray(im)\n",
        "  image.save(\"TSM_DeLearn_PW10/data/test/{}/{}.jpeg\".format(y_test[i][0], index))\n",
        "  index += 1\n"
      ],
      "execution_count": 0,
      "outputs": []
    },
    {
      "cell_type": "markdown",
      "metadata": {
        "id": "9shAxGPBzSyN",
        "colab_type": "text"
      },
      "source": [
        "### Experiment with pre-trained architectures on ImageNet"
      ]
    },
    {
      "cell_type": "markdown",
      "metadata": {
        "id": "DzX5wYP5mIKx",
        "colab_type": "text"
      },
      "source": [
        "#### MobileNetV2"
      ]
    },
    {
      "cell_type": "code",
      "metadata": {
        "id": "Ou6JWY-MzyDX",
        "colab_type": "code",
        "colab": {}
      },
      "source": [
        "# libraries\n",
        "from tensorflow.keras.applications.inception_resnet_v2 import InceptionResNetV2\n",
        "from tensorflow.keras.applications.mobilenet_v2 import MobileNetV2"
      ],
      "execution_count": 0,
      "outputs": []
    },
    {
      "cell_type": "code",
      "metadata": {
        "id": "dBNztPhxygip",
        "colab_type": "code",
        "outputId": "dd2d3291-2661-4d24-81c1-b27b37d3ad0c",
        "colab": {
          "base_uri": "https://localhost:8080/",
          "height": 73
        }
      },
      "source": [
        "pt_model = MobileNetV2(weights='imagenet', include_top=False, input_shape=(160, 160,3))\n",
        "print('model loaded')\n",
        "pt_model.trainable = True"
      ],
      "execution_count": 9,
      "outputs": [
        {
          "output_type": "stream",
          "text": [
            "Downloading data from https://github.com/JonathanCMitchell/mobilenet_v2_keras/releases/download/v1.1/mobilenet_v2_weights_tf_dim_ordering_tf_kernels_1.0_160_no_top.h5\n",
            "9412608/9406464 [==============================] - 1s 0us/step\n",
            "model loaded\n"
          ],
          "name": "stdout"
        }
      ]
    },
    {
      "cell_type": "code",
      "metadata": {
        "id": "Z1f8zByM0kKP",
        "colab_type": "code",
        "outputId": "747b0b7e-33fe-448a-b14a-5aadc61a694a",
        "colab": {
          "base_uri": "https://localhost:8080/",
          "height": 615
        }
      },
      "source": [
        "model = Sequential([\n",
        "  pt_model,\n",
        "  tf.keras.layers.GlobalAveragePooling2D(),\n",
        "  #Flatten(),\n",
        "  Dense(100),\n",
        "  Dropout(0.5),\n",
        "  Activation('relu'),\n",
        "  Dense(10, activation='softmax')\n",
        "])\n",
        "\n",
        "model.compile(loss='categorical_crossentropy', optimizer='adam', metrics=['accuracy'])\n",
        "model.summary()\n",
        "\n",
        "#%%\n",
        "def preprocess_img(image):\n",
        "  return (image/127.5) - 1\n",
        "#%%\n",
        "\n",
        "B = 32\n",
        "data_gen = ImageDataGenerator(preprocessing_function=preprocess_img)\n",
        "batches = data_gen.flow_from_directory('TSM_DeLearn_PW10/data/train', target_size=(160, 160), batch_size=B, shuffle=True) \n",
        "val_batches = data_gen.flow_from_directory('TSM_DeLearn_PW10/data/test', target_size=(160, 160), batch_size=B , shuffle=False)\n",
        "log = model.fit_generator(batches,\n",
        "                          steps_per_epoch=50000/B,\n",
        "                          epochs=5,\n",
        "                          validation_data=val_batches,\n",
        "                          validation_steps=10000/B)"
      ],
      "execution_count": 10,
      "outputs": [
        {
          "output_type": "stream",
          "text": [
            "Model: \"sequential\"\n",
            "_________________________________________________________________\n",
            "Layer (type)                 Output Shape              Param #   \n",
            "=================================================================\n",
            "mobilenetv2_1.00_160 (Model) (None, 5, 5, 1280)        2257984   \n",
            "_________________________________________________________________\n",
            "global_average_pooling2d (Gl (None, 1280)              0         \n",
            "_________________________________________________________________\n",
            "dense (Dense)                (None, 100)               128100    \n",
            "_________________________________________________________________\n",
            "dropout (Dropout)            (None, 100)               0         \n",
            "_________________________________________________________________\n",
            "activation (Activation)      (None, 100)               0         \n",
            "_________________________________________________________________\n",
            "dense_1 (Dense)              (None, 10)                1010      \n",
            "=================================================================\n",
            "Total params: 2,387,094\n",
            "Trainable params: 2,352,982\n",
            "Non-trainable params: 34,112\n",
            "_________________________________________________________________\n",
            "Found 50000 images belonging to 10 classes.\n",
            "Found 10000 images belonging to 10 classes.\n",
            "Epoch 1/5\n",
            "1563/1562 [==============================] - 482s 308ms/step - loss: 1.0535 - accuracy: 0.6621 - val_loss: 5.8371 - val_accuracy: 0.3416\n",
            "Epoch 2/5\n",
            "1563/1562 [==============================] - 481s 308ms/step - loss: 0.7224 - accuracy: 0.7714 - val_loss: 2.7944 - val_accuracy: 0.5010\n",
            "Epoch 3/5\n",
            "1563/1562 [==============================] - 469s 300ms/step - loss: 0.6028 - accuracy: 0.8108 - val_loss: 1.7417 - val_accuracy: 0.6491\n",
            "Epoch 4/5\n",
            "1563/1562 [==============================] - 472s 302ms/step - loss: 0.5259 - accuracy: 0.8345 - val_loss: 2.2582 - val_accuracy: 0.6002\n",
            "Epoch 5/5\n",
            "1563/1562 [==============================] - 474s 303ms/step - loss: 0.4659 - accuracy: 0.8517 - val_loss: 0.8013 - val_accuracy: 0.7890\n"
          ],
          "name": "stdout"
        }
      ]
    },
    {
      "cell_type": "code",
      "metadata": {
        "id": "V0v8L3N05NuH",
        "colab_type": "code",
        "colab": {
          "base_uri": "https://localhost:8080/",
          "height": 661
        },
        "outputId": "f02db18c-0302-40bb-e707-82ef49f9e56c"
      },
      "source": [
        "plot_model(model)"
      ],
      "execution_count": 11,
      "outputs": [
        {
          "output_type": "execute_result",
          "data": {
            "image/png": "[encoded data removed]",
            "text/plain": [
              "<IPython.core.display.Image object>"
            ]
          },
          "metadata": {
            "tags": []
          },
          "execution_count": 11
        }
      ]
    },
    {
      "cell_type": "code",
      "metadata": {
        "id": "tPJ9K7j09IqP",
        "colab_type": "code",
        "colab": {
          "base_uri": "https://localhost:8080/",
          "height": 265
        },
        "outputId": "3b9d6477-60d4-4a2a-e080-12b8308d77d3"
      },
      "source": [
        "# Loss evaluation during training\n",
        "f = plt.figure(figsize=(12,4))\n",
        "ax1 = f.add_subplot(121)\n",
        "ax2 = f.add_subplot(122)\n",
        "ax1.plot(log.history['loss'], label='Training loss')\n",
        "ax1.plot(log.history['val_loss'], label='Testing loss')\n",
        "ax1.legend()\n",
        "ax1.grid()\n",
        "ax2.plot(log.history['accuracy'], label='Training acc')\n",
        "ax2.plot(log.history['val_accuracy'], label='Testing acc')\n",
        "ax2.legend()\n",
        "ax2.grid()"
      ],
      "execution_count": 12,
      "outputs": [
        {
          "output_type": "display_data",
          "data": {
            "image/png": "[encoded data removed]",
            "text/plain": [
              "<Figure size 864x288 with 2 Axes>"
            ]
          },
          "metadata": {
            "tags": []
          }
        }
      ]
    },
    {
      "cell_type": "code",
      "metadata": {
        "id": "Gmdzs7939UP-",
        "colab_type": "code",
        "colab": {
          "base_uri": "https://localhost:8080/",
          "height": 54
        },
        "outputId": "0b52c124-62f5-4720-fe0b-e1c835419421"
      },
      "source": [
        "# Model evaluation\n",
        "loss_test, metric_test = model.evaluate_generator(val_batches, verbose=0) # ... evaluate model performance on test set\n",
        "print('Test loss:', loss_test)\n",
        "print('Test accuracy:', metric_test)"
      ],
      "execution_count": 14,
      "outputs": [
        {
          "output_type": "stream",
          "text": [
            "Test loss: 0.8000420258579829\n",
            "Test accuracy: 0.789\n"
          ],
          "name": "stdout"
        }
      ]
    },
    {
      "cell_type": "markdown",
      "metadata": {
        "id": "oUPiBS_bmV39",
        "colab_type": "text"
      },
      "source": [
        "#### InceptionResNetV2"
      ]
    },
    {
      "cell_type": "code",
      "metadata": {
        "id": "JXTnQ7prmatx",
        "colab_type": "code",
        "colab": {
          "base_uri": "https://localhost:8080/",
          "height": 73
        },
        "outputId": "2bddfd9d-37d4-4394-8447-8765a392d539"
      },
      "source": [
        "pt_model = InceptionResNetV2(weights='imagenet', include_top=False, input_shape=(160, 160,3))\n",
        "print('model loaded')\n",
        "pt_model.trainable = True"
      ],
      "execution_count": 15,
      "outputs": [
        {
          "output_type": "stream",
          "text": [
            "Downloading data from https://github.com/fchollet/deep-learning-models/releases/download/v0.7/inception_resnet_v2_weights_tf_dim_ordering_tf_kernels_notop.h5\n",
            "219062272/219055592 [==============================] - 435s 2us/step\n",
            "model loaded\n"
          ],
          "name": "stdout"
        }
      ]
    },
    {
      "cell_type": "code",
      "metadata": {
        "id": "WIvwvuAzoQyc",
        "colab_type": "code",
        "colab": {
          "base_uri": "https://localhost:8080/",
          "height": 615
        },
        "outputId": "1482de71-12dd-46d2-ad3c-8eb7b1508c3d"
      },
      "source": [
        "model = Sequential([\n",
        "  pt_model,\n",
        "  tf.keras.layers.GlobalAveragePooling2D(),\n",
        "  #Flatten(),\n",
        "  Dense(100),\n",
        "  Dropout(0.5),\n",
        "  Activation('relu'),\n",
        "  Dense(10, activation='softmax')\n",
        "])\n",
        "\n",
        "model.compile(loss='categorical_crossentropy', optimizer='adam', metrics=['accuracy'])\n",
        "model.summary()\n",
        "\n",
        "#%%\n",
        "def preprocess_img(image):\n",
        "  return (image/127.5) - 1\n",
        "#%%\n",
        "\n",
        "B = 32\n",
        "data_gen = ImageDataGenerator(preprocessing_function=preprocess_img)\n",
        "batches = data_gen.flow_from_directory('TSM_DeLearn_PW10/data/train', target_size=(160, 160), batch_size=B, shuffle=True) \n",
        "val_batches = data_gen.flow_from_directory('TSM_DeLearn_PW10/data/test', target_size=(160, 160), batch_size=B , shuffle=False)\n",
        "log = model.fit_generator(batches,\n",
        "                          steps_per_epoch=50000/B,\n",
        "                          epochs=5,\n",
        "                          validation_data=val_batches,\n",
        "                          validation_steps=10000/B)"
      ],
      "execution_count": 16,
      "outputs": [
        {
          "output_type": "stream",
          "text": [
            "Model: \"sequential_1\"\n",
            "_________________________________________________________________\n",
            "Layer (type)                 Output Shape              Param #   \n",
            "=================================================================\n",
            "inception_resnet_v2 (Model)  (None, 3, 3, 1536)        54336736  \n",
            "_________________________________________________________________\n",
            "global_average_pooling2d_1 ( (None, 1536)              0         \n",
            "_________________________________________________________________\n",
            "dense_2 (Dense)              (None, 100)               153700    \n",
            "_________________________________________________________________\n",
            "dropout_1 (Dropout)          (None, 100)               0         \n",
            "_________________________________________________________________\n",
            "activation_204 (Activation)  (None, 100)               0         \n",
            "_________________________________________________________________\n",
            "dense_3 (Dense)              (None, 10)                1010      \n",
            "=================================================================\n",
            "Total params: 54,491,446\n",
            "Trainable params: 54,430,902\n",
            "Non-trainable params: 60,544\n",
            "_________________________________________________________________\n",
            "Found 50000 images belonging to 10 classes.\n",
            "Found 10000 images belonging to 10 classes.\n",
            "Epoch 1/5\n",
            "1563/1562 [==============================] - 1457s 932ms/step - loss: 1.2510 - accuracy: 0.5825 - val_loss: 1.2116 - val_accuracy: 0.5808\n",
            "Epoch 2/5\n",
            "1563/1562 [==============================] - 1454s 930ms/step - loss: 1.0726 - accuracy: 0.6386 - val_loss: 2.3287 - val_accuracy: 0.2516\n",
            "Epoch 3/5\n",
            "1563/1562 [==============================] - 1444s 924ms/step - loss: 0.9195 - accuracy: 0.6964 - val_loss: 1.3977 - val_accuracy: 0.5061\n",
            "Epoch 4/5\n",
            "1563/1562 [==============================] - 1442s 922ms/step - loss: 0.9552 - accuracy: 0.6790 - val_loss: 0.9677 - val_accuracy: 0.6586\n",
            "Epoch 5/5\n",
            "1563/1562 [==============================] - 1435s 918ms/step - loss: 0.7747 - accuracy: 0.7449 - val_loss: 0.9790 - val_accuracy: 0.6616\n"
          ],
          "name": "stdout"
        }
      ]
    },
    {
      "cell_type": "code",
      "metadata": {
        "id": "CdLZ7FT5wKl_",
        "colab_type": "code",
        "colab": {
          "base_uri": "https://localhost:8080/",
          "height": 661
        },
        "outputId": "20f2ee55-48ec-40e7-e233-1ac6e6ba3da5"
      },
      "source": [
        "plot_model(model)"
      ],
      "execution_count": 17,
      "outputs": [
        {
          "output_type": "execute_result",
          "data": {
            "image/png": "[encoded data removed]",
            "text/plain": [
              "<IPython.core.display.Image object>"
            ]
          },
          "metadata": {
            "tags": []
          },
          "execution_count": 17
        }
      ]
    },
    {
      "cell_type": "code",
      "metadata": {
        "id": "8qMSAwGnwOfg",
        "colab_type": "code",
        "colab": {
          "base_uri": "https://localhost:8080/",
          "height": 269
        },
        "outputId": "83e656ee-9352-45e5-c7dc-99d2c856d57e"
      },
      "source": [
        "# Loss evaluation during training\n",
        "f = plt.figure(figsize=(12,4))\n",
        "ax1 = f.add_subplot(121)\n",
        "ax2 = f.add_subplot(122)\n",
        "ax1.plot(log.history['loss'], label='Training loss')\n",
        "ax1.plot(log.history['val_loss'], label='Testing loss')\n",
        "ax1.legend()\n",
        "ax1.grid()\n",
        "ax2.plot(log.history['accuracy'], label='Training acc')\n",
        "ax2.plot(log.history['val_accuracy'], label='Testing acc')\n",
        "ax2.legend()\n",
        "ax2.grid()"
      ],
      "execution_count": 18,
      "outputs": [
        {
          "output_type": "display_data",
          "data": {
            "image/png": "[encoded data removed]",
            "text/plain": [
              "<Figure size 864x288 with 2 Axes>"
            ]
          },
          "metadata": {
            "tags": []
          }
        }
      ]
    },
    {
      "cell_type": "code",
      "metadata": {
        "id": "LfnJod0nwRiw",
        "colab_type": "code",
        "colab": {
          "base_uri": "https://localhost:8080/",
          "height": 54
        },
        "outputId": "7a6a5e27-060f-47b9-98eb-f2c8e17cb23c"
      },
      "source": [
        "# Model evaluation\n",
        "loss_test, metric_test = model.evaluate_generator(val_batches, verbose=0) # ... evaluate model performance on test set\n",
        "print('Test loss:', loss_test)\n",
        "print('Test accuracy:', metric_test)"
      ],
      "execution_count": 19,
      "outputs": [
        {
          "output_type": "stream",
          "text": [
            "Test loss: 0.9773987838254569\n",
            "Test accuracy: 0.6616\n"
          ],
          "name": "stdout"
        }
      ]
    },
    {
      "cell_type": "markdown",
      "metadata": {
        "id": "9v6JB20zFKO6",
        "colab_type": "text"
      },
      "source": [
        "This models may be better than our model but also more time-consuming. The first model has a test accuracy of **0.789** after 5 epochs. Our model in PW08 had a accuracy of **~0.82** after 30 epochs.  "
      ]
    }
  ]
}