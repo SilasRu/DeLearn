{
 "cells": [
  {
   "cell_type": "code",
   "execution_count": 1,
   "metadata": {
    "colab": {
     "base_uri": "https://localhost:8080/",
     "height": 35
    },
    "colab_type": "code",
    "id": "Z8lr5nZ9B5nh",
    "outputId": "d5969441-1343-42ba-f110-7e2b278f4a90"
   },
   "outputs": [
    {
     "name": "stdout",
     "output_type": "stream",
     "text": [
      "\u001b[92mOK: TensorFlow >= 2.0.0.\u001b[0m\n"
     ]
    }
   ],
   "source": [
    "# First, import TF and get its version.\n",
    "#!pip install --upgrade tensorflow-gpu\n",
    "import tensorflow as tf\n",
    "tf_version = tf.__version__\n",
    "\n",
    "# Check if version >=2.0.0 is used\n",
    "if not tf_version.startswith('2.'):\n",
    "    print('\\033[91m' + 'WARNING: TensorFlow >= 2.0.0 will be used in this course.\\nYour version is {}'.format(tf_version) + '.\\033[0m')\n",
    "else:\n",
    "    print('\\033[92m' + 'OK: TensorFlow >= 2.0.0' + '.\\033[0m')"
   ]
  },
  {
   "cell_type": "code",
   "execution_count": 0,
   "metadata": {
    "colab": {},
    "colab_type": "code",
    "id": "JOSLDX-3ByrC"
   },
   "outputs": [],
   "source": [
    "from matplotlib import pyplot as plt\n",
    "import numpy as np\n",
    "import gzip\n",
    "from sklearn.preprocessing import StandardScaler\n",
    "from sklearn.svm import SVC\n",
    "from sklearn import metrics\n",
    "import tensorflow as tf\n",
    "from tensorflow.keras.models import Sequential, Model\n",
    "from tensorflow.keras.layers import Input, Conv2D, MaxPooling2D, UpSampling2D\n",
    "from tensorflow.keras.layers import Dense, Dropout, Flatten, Activation\n",
    "from tensorflow.keras.optimizers import RMSprop\n",
    "from tensorflow.keras import utils\n",
    "\n",
    "%matplotlib inline"
   ]
  },
  {
   "cell_type": "code",
   "execution_count": 0,
   "metadata": {
    "colab": {},
    "colab_type": "code",
    "id": "_ixNOX-hByrQ"
   },
   "outputs": [],
   "source": [
    "def extract_data(filename, num_images):\n",
    "    with gzip.open(filename) as bytestream:\n",
    "        bytestream.read(16)\n",
    "        buf = bytestream.read(28 * 28 * num_images)\n",
    "        data = np.frombuffer(buf, dtype=np.uint8).astype(np.float32)\n",
    "        data = data.reshape(num_images, 28,28)\n",
    "        return data\n",
    "\n",
    "def extract_labels(filename, num_images):\n",
    "    with gzip.open(filename) as bytestream:\n",
    "        bytestream.read(8)\n",
    "        buf = bytestream.read(1 * num_images)\n",
    "        labels = np.frombuffer(buf, dtype=np.uint8).astype(np.int64)\n",
    "        return labels\n",
    "\n",
    "# Create dictionary of target classes\n",
    "label_dict = {\n",
    " 0: 'A',\n",
    " 1: 'B',\n",
    " 2: 'C',\n",
    " 3: 'D',\n",
    " 4: 'E',\n",
    " 5: 'F',\n",
    " 6: 'G',\n",
    " 7: 'H',\n",
    " 8: 'I',\n",
    " 9: 'J',\n",
    "}"
   ]
  },
  {
   "cell_type": "code",
   "execution_count": 4,
   "metadata": {
    "colab": {
     "base_uri": "https://localhost:8080/",
     "height": 53
    },
    "colab_type": "code",
    "id": "7m3xgNfYDzPZ",
    "outputId": "3c8bb1f0-0cdc-4b31-f4a6-5c19d21ae3f7"
   },
   "outputs": [
    {
     "name": "stdout",
     "output_type": "stream",
     "text": [
      "/content\n",
      "['anscombe.json', 'README.md', 'mnist_test.csv', 'california_housing_test.csv', 'california_housing_train.csv', 'mnist_train_small.csv']\n"
     ]
    }
   ],
   "source": [
    "import os\n",
    "print(os.getcwd())\n",
    "print(os.listdir('/content/sample_data'))"
   ]
  },
  {
   "cell_type": "code",
   "execution_count": 5,
   "metadata": {
    "colab": {
     "base_uri": "https://localhost:8080/",
     "height": 199
    },
    "colab_type": "code",
    "id": "n52l8ER4ByrX",
    "outputId": "2b901678-4d14-4e50-cfa9-b13c836c914d"
   },
   "outputs": [
    {
     "name": "stdout",
     "output_type": "stream",
     "text": [
      "[[0. 0. 0. 0. 0. 1. 0. 0. 0. 0.]\n",
      " [0. 0. 0. 0. 0. 0. 0. 0. 1. 0.]\n",
      " [0. 0. 0. 0. 0. 0. 0. 0. 1. 0.]\n",
      " [0. 0. 0. 0. 0. 0. 1. 0. 0. 0.]\n",
      " [0. 0. 0. 1. 0. 0. 0. 0. 0. 0.]\n",
      " [1. 0. 0. 0. 0. 0. 0. 0. 0. 0.]\n",
      " [0. 0. 0. 0. 0. 0. 0. 0. 1. 0.]\n",
      " [1. 0. 0. 0. 0. 0. 0. 0. 0. 0.]\n",
      " [0. 1. 0. 0. 0. 0. 0. 0. 0. 0.]\n",
      " [0. 0. 0. 0. 0. 1. 0. 0. 0. 0.]]\n"
     ]
    }
   ],
   "source": [
    "train_data = extract_data('train-images-idx3-ubyte.gz', 60000)\n",
    "test_data = extract_data('t10k-images-idx3-ubyte.gz', 10000)\n",
    "\n",
    "train_labels = extract_labels('train-labels-idx1-ubyte.gz',60000)\n",
    "test_labels = extract_labels('t10k-labels-idx1-ubyte.gz',10000)\n",
    "\n",
    "X_train = train_data.reshape(-1, 28,28, 1)  # add grey channel\n",
    "X_test = test_data.reshape(-1, 28,28, 1)\n",
    "\n",
    "n_classes = 10\n",
    "Y_train = utils.to_categorical(train_labels, n_classes) # 1-hot\n",
    "Y_test = utils.to_categorical(test_labels, n_classes)\n",
    "print(Y_train[:10])"
   ]
  },
  {
   "cell_type": "code",
   "execution_count": 6,
   "metadata": {
    "colab": {
     "base_uri": "https://localhost:8080/",
     "height": 72
    },
    "colab_type": "code",
    "id": "WvDgfvjvByrc",
    "outputId": "4f17f689-69d4-448e-b881-ad6b71352481"
   },
   "outputs": [
    {
     "name": "stdout",
     "output_type": "stream",
     "text": [
      "Training set (images) shape: (60000, 28, 28, 1)\n",
      "Test set (images) shape: (10000, 28, 28, 1)\n",
      "data type:  float32 float32\n"
     ]
    }
   ],
   "source": [
    "# Shape of training set\n",
    "print(\"Training set (images) shape: {shape}\".format(shape=X_train.shape))\n",
    "# Shape of test set\n",
    "print(\"Test set (images) shape: {shape}\".format(shape=X_test.shape))\n",
    "# Type of data - should be float32\n",
    "print('data type: ', X_train.dtype, X_test.dtype)"
   ]
  },
  {
   "cell_type": "code",
   "execution_count": 7,
   "metadata": {
    "colab": {
     "base_uri": "https://localhost:8080/",
     "height": 234
    },
    "colab_type": "code",
    "id": "o5vgip3zByrj",
    "outputId": "78091401-2852-47c6-9514-b5dd0a01e337"
   },
   "outputs": [
    {
     "data": {
      "text/plain": [
       "Text(0.5, 1.0, '(Label: D)')"
      ]
     },
     "execution_count": 7,
     "metadata": {
      "tags": []
     },
     "output_type": "execute_result"
    },
    {
     "data": {
      "image/png": "[encoded data removed]",
      "text/plain": [
       "<Figure size 432x288 with 2 Axes>"
      ]
     },
     "metadata": {
      "tags": []
     },
     "output_type": "display_data"
    }
   ],
   "source": [
    "# Display the first image in training data\n",
    "plt.subplot(121)\n",
    "curr_img = np.reshape(X_train[0], (28,28))\n",
    "curr_lbl = train_labels[0]\n",
    "plt.imshow(curr_img, cmap='gray')\n",
    "plt.title(\"(Label: \" + str(label_dict[curr_lbl]) + \")\")\n",
    "\n",
    "# Display the first image in testing data\n",
    "plt.subplot(122)\n",
    "curr_img = np.reshape(X_test[0], (28,28))\n",
    "curr_lbl = test_labels[0]\n",
    "plt.imshow(curr_img, cmap='gray')\n",
    "plt.title(\"(Label: \" + str(label_dict[curr_lbl]) + \")\")"
   ]
  },
  {
   "cell_type": "code",
   "execution_count": 0,
   "metadata": {
    "colab": {},
    "colab_type": "code",
    "id": "BHi0k-U8Byrn"
   },
   "outputs": [],
   "source": [
    "# rescale the data in range 0-1\n",
    "X_train = X_train / 255.0\n",
    "X_test = X_test / 255.0"
   ]
  },
  {
   "cell_type": "markdown",
   "metadata": {
    "colab_type": "text",
    "id": "Uj1b4PklByrq"
   },
   "source": [
    "## Create a shallow MLP encoder"
   ]
  },
  {
   "cell_type": "code",
   "execution_count": 9,
   "metadata": {
    "colab": {
     "base_uri": "https://localhost:8080/",
     "height": 272
    },
    "colab_type": "code",
    "id": "t_P4OJinByrr",
    "outputId": "e25a2e4f-ae0b-420b-c16d-be3d4dc4907b"
   },
   "outputs": [
    {
     "name": "stdout",
     "output_type": "stream",
     "text": [
      "Model: \"model\"\n",
      "_________________________________________________________________\n",
      "Layer (type)                 Output Shape              Param #   \n",
      "=================================================================\n",
      "input_1 (InputLayer)         [(None, 784)]             0         \n",
      "_________________________________________________________________\n",
      "dense (Dense)                (None, 50)                39250     \n",
      "_________________________________________________________________\n",
      "dense_1 (Dense)              (None, 784)               39984     \n",
      "=================================================================\n",
      "Total params: 79,234\n",
      "Trainable params: 79,234\n",
      "Non-trainable params: 0\n",
      "_________________________________________________________________\n"
     ]
    }
   ],
   "source": [
    "# STARTING FROM HERE, COMPLETE THE CODE WHERE YOU SEE ...\n",
    "# size of our encoded representation\n",
    "encoding_dim = 50  # this is the number of neurons you chose to encode\n",
    "\n",
    "# define input layer, encoded layer and decoded layer\n",
    "input_img = Input(shape=(784,))\n",
    "encoded = Dense(encoding_dim, activation='relu')(input_img)\n",
    "decoded = Dense(784, activation='sigmoid')(encoded)\n",
    "\n",
    "# define autoencoder model \n",
    "autoencoder = Model(inputs=input_img, outputs=decoded)\n",
    "encoder = Model(inputs=input_img, outputs=encoded)\n",
    "\n",
    "# create a placeholder for an encoded (32-dimensional) input\n",
    "encoded_input = Input(shape=(encoding_dim,))\n",
    "\n",
    "# retrieve the last layer of the autoencoder model\n",
    "decoder_layer = autoencoder.layers[-1]\n",
    "\n",
    "# create the decoder model\n",
    "decoder = Model(encoded_input,decoder_layer(encoded_input))\n",
    "\n",
    "autoencoder.summary()"
   ]
  },
  {
   "cell_type": "code",
   "execution_count": 0,
   "metadata": {
    "colab": {},
    "colab_type": "code",
    "id": "xvV2R63HByrw"
   },
   "outputs": [],
   "source": [
    "# compile the network - use adam optimizer, beware to use the good loss function\n",
    "\n",
    "autoencoder.compile(optimizer='adam',\n",
    "                    loss='binary_crossentropy',\n",
    "                    metrics=['accuracy'])"
   ]
  },
  {
   "cell_type": "code",
   "execution_count": 0,
   "metadata": {
    "colab": {},
    "colab_type": "code",
    "id": "JwZU3Lr0Byr0"
   },
   "outputs": [],
   "source": [
    "# for visualisation\n",
    "def plot_result(x_test,decoded_imgs):\n",
    "    n = 10\n",
    "    plt.figure(figsize=(20, 4))\n",
    "    for i in range(n):\n",
    "        # display original\n",
    "        ax = plt.subplot(2, n, i + 1)\n",
    "        plt.imshow(x_test[i].reshape(28, 28))\n",
    "        plt.gray()\n",
    "        ax.get_xaxis().set_visible(False)\n",
    "        ax.get_yaxis().set_visible(False)\n",
    "\n",
    "        # display reconstruction\n",
    "        ax = plt.subplot(2, n, i + 1 + n)\n",
    "        plt.imshow(decoded_imgs[i].reshape(28, 28))\n",
    "        plt.gray()\n",
    "        ax.get_xaxis().set_visible(False)\n",
    "        ax.get_yaxis().set_visible(False)\n",
    "    plt.show()"
   ]
  },
  {
   "cell_type": "code",
   "execution_count": 0,
   "metadata": {
    "colab": {},
    "colab_type": "code",
    "id": "ucn7NWUUByr4"
   },
   "outputs": [],
   "source": [
    "X_train_flat = X_train.reshape(60000,784)\n",
    "X_test_flat = X_test.reshape(10000,784)"
   ]
  },
  {
   "cell_type": "code",
   "execution_count": 13,
   "metadata": {
    "colab": {
     "base_uri": "https://localhost:8080/",
     "height": 1000
    },
    "colab_type": "code",
    "id": "YW2xylinByr8",
    "outputId": "fa9c9c2b-2c05-4bfd-eb20-c160d0f72e71",
    "scrolled": true
   },
   "outputs": [
    {
     "name": "stdout",
     "output_type": "stream",
     "text": [
      "Train on 60000 samples, validate on 10000 samples\n",
      "Epoch 1/30\n",
      "60000/60000 [==============================] - 3s 47us/sample - loss: 0.4107 - accuracy: 0.5180 - val_loss: 0.2584 - val_accuracy: 0.5882\n",
      "Epoch 2/30\n",
      "60000/60000 [==============================] - 2s 30us/sample - loss: 0.2552 - accuracy: 0.5763 - val_loss: 0.2137 - val_accuracy: 0.5986\n",
      "Epoch 3/30\n",
      "60000/60000 [==============================] - 2s 25us/sample - loss: 0.2225 - accuracy: 0.5835 - val_loss: 0.1921 - val_accuracy: 0.6027\n",
      "Epoch 4/30\n",
      "60000/60000 [==============================] - 2s 26us/sample - loss: 0.2077 - accuracy: 0.5864 - val_loss: 0.1829 - val_accuracy: 0.6043\n",
      "Epoch 5/30\n",
      "60000/60000 [==============================] - 1s 25us/sample - loss: 0.1994 - accuracy: 0.5879 - val_loss: 0.1767 - val_accuracy: 0.6053\n",
      "Epoch 6/30\n",
      "60000/60000 [==============================] - 2s 27us/sample - loss: 0.1946 - accuracy: 0.5887 - val_loss: 0.1730 - val_accuracy: 0.6059\n",
      "Epoch 7/30\n",
      "60000/60000 [==============================] - 2s 26us/sample - loss: 0.1913 - accuracy: 0.5893 - val_loss: 0.1716 - val_accuracy: 0.6062\n",
      "Epoch 8/30\n",
      "60000/60000 [==============================] - 2s 26us/sample - loss: 0.1892 - accuracy: 0.5897 - val_loss: 0.1694 - val_accuracy: 0.6064\n",
      "Epoch 9/30\n",
      "60000/60000 [==============================] - 1s 23us/sample - loss: 0.1875 - accuracy: 0.5900 - val_loss: 0.1675 - val_accuracy: 0.6067\n",
      "Epoch 10/30\n",
      "60000/60000 [==============================] - 1s 23us/sample - loss: 0.1863 - accuracy: 0.5902 - val_loss: 0.1665 - val_accuracy: 0.6069\n",
      "Epoch 11/30\n",
      "60000/60000 [==============================] - 2s 29us/sample - loss: 0.1854 - accuracy: 0.5904 - val_loss: 0.1658 - val_accuracy: 0.6070\n",
      "Epoch 12/30\n",
      "60000/60000 [==============================] - 2s 31us/sample - loss: 0.1847 - accuracy: 0.5905 - val_loss: 0.1654 - val_accuracy: 0.6070\n",
      "Epoch 13/30\n",
      "60000/60000 [==============================] - 2s 30us/sample - loss: 0.1840 - accuracy: 0.5906 - val_loss: 0.1646 - val_accuracy: 0.6071\n",
      "Epoch 14/30\n",
      "60000/60000 [==============================] - 2s 27us/sample - loss: 0.1835 - accuracy: 0.5907 - val_loss: 0.1642 - val_accuracy: 0.6072\n",
      "Epoch 15/30\n",
      "60000/60000 [==============================] - 2s 27us/sample - loss: 0.1830 - accuracy: 0.5907 - val_loss: 0.1640 - val_accuracy: 0.6073\n",
      "Epoch 16/30\n",
      "60000/60000 [==============================] - 2s 26us/sample - loss: 0.1827 - accuracy: 0.5908 - val_loss: 0.1638 - val_accuracy: 0.6073\n",
      "Epoch 17/30\n",
      "60000/60000 [==============================] - 2s 27us/sample - loss: 0.1824 - accuracy: 0.5908 - val_loss: 0.1638 - val_accuracy: 0.6073\n",
      "Epoch 18/30\n",
      "60000/60000 [==============================] - 2s 29us/sample - loss: 0.1822 - accuracy: 0.5909 - val_loss: 0.1632 - val_accuracy: 0.6073\n",
      "Epoch 19/30\n",
      "60000/60000 [==============================] - 2s 27us/sample - loss: 0.1820 - accuracy: 0.5909 - val_loss: 0.1634 - val_accuracy: 0.6073\n",
      "Epoch 20/30\n",
      "60000/60000 [==============================] - 1s 25us/sample - loss: 0.1818 - accuracy: 0.5909 - val_loss: 0.1627 - val_accuracy: 0.6074\n",
      "Epoch 21/30\n",
      "60000/60000 [==============================] - 1s 21us/sample - loss: 0.1817 - accuracy: 0.5909 - val_loss: 0.1627 - val_accuracy: 0.6074\n",
      "Epoch 22/30\n",
      "60000/60000 [==============================] - 1s 22us/sample - loss: 0.1815 - accuracy: 0.5910 - val_loss: 0.1626 - val_accuracy: 0.6074\n",
      "Epoch 23/30\n",
      "60000/60000 [==============================] - 1s 22us/sample - loss: 0.1813 - accuracy: 0.5910 - val_loss: 0.1622 - val_accuracy: 0.6075\n",
      "Epoch 24/30\n",
      "60000/60000 [==============================] - 1s 22us/sample - loss: 0.1812 - accuracy: 0.5910 - val_loss: 0.1626 - val_accuracy: 0.6074\n",
      "Epoch 25/30\n",
      "60000/60000 [==============================] - 1s 21us/sample - loss: 0.1811 - accuracy: 0.5910 - val_loss: 0.1621 - val_accuracy: 0.6075\n",
      "Epoch 26/30\n",
      "60000/60000 [==============================] - 1s 22us/sample - loss: 0.1810 - accuracy: 0.5910 - val_loss: 0.1622 - val_accuracy: 0.6075\n",
      "Epoch 27/30\n",
      "60000/60000 [==============================] - 1s 22us/sample - loss: 0.1810 - accuracy: 0.5910 - val_loss: 0.1621 - val_accuracy: 0.6075\n",
      "Epoch 28/30\n",
      "60000/60000 [==============================] - 1s 22us/sample - loss: 0.1809 - accuracy: 0.5911 - val_loss: 0.1620 - val_accuracy: 0.6075\n",
      "Epoch 29/30\n",
      "60000/60000 [==============================] - 1s 21us/sample - loss: 0.1809 - accuracy: 0.5911 - val_loss: 0.1618 - val_accuracy: 0.6075\n",
      "Epoch 30/30\n",
      "60000/60000 [==============================] - 1s 21us/sample - loss: 0.1808 - accuracy: 0.5911 - val_loss: 0.1623 - val_accuracy: 0.6075\n"
     ]
    }
   ],
   "source": [
    "# train the network\n",
    "log = autoencoder.fit(X_train_flat,X_train_flat, validation_data=(X_test_flat, X_test_flat),\n",
    "              batch_size=256,\n",
    "              shuffle= True,\n",
    "              epochs=30)"
   ]
  },
  {
   "cell_type": "code",
   "execution_count": 14,
   "metadata": {
    "colab": {
     "base_uri": "https://localhost:8080/",
     "height": 265
    },
    "colab_type": "code",
    "id": "aNFqVTcABysB",
    "outputId": "077207e3-3afa-4395-b021-34a64eb1e3da"
   },
   "outputs": [
    {
     "data": {
      "image/png": "[encoded data removed]",
      "text/plain": [
       "<Figure size 432x288 with 1 Axes>"
      ]
     },
     "metadata": {
      "tags": []
     },
     "output_type": "display_data"
    }
   ],
   "source": [
    "plt.plot(log.history['loss'], label='Training')\n",
    "plt.plot(log.history['val_loss'], label='Testing')\n",
    "plt.legend()\n",
    "plt.grid()"
   ]
  },
  {
   "cell_type": "code",
   "execution_count": 15,
   "metadata": {
    "colab": {
     "base_uri": "https://localhost:8080/",
     "height": 266
    },
    "colab_type": "code",
    "id": "JUcMkakJBysF",
    "outputId": "7ec4edd6-58be-48ef-de16-cb6361396113"
   },
   "outputs": [
    {
     "name": "stdout",
     "output_type": "stream",
     "text": [
      "(10000, 50)\n"
     ]
    },
    {
     "data": {
      "image/png": "[encoded data removed]",
      "text/plain": [
       "<Figure size 1440x288 with 20 Axes>"
      ]
     },
     "metadata": {
      "tags": []
     },
     "output_type": "display_data"
    }
   ],
   "source": [
    "# encode and decode some digits\n",
    "# note that we take them from the *test* set\n",
    "encoded_imgs = encoder.predict(X_test_flat)\n",
    "decoded_imgs = decoder.predict(encoded_imgs)\n",
    "print(encoded_imgs.shape)\n",
    "plot_result(X_test_flat, decoded_imgs)\n",
    "\n",
    "#f) in terms of loss and gain of bandwidth, one can compare the original and the decoded pictures and \n",
    "# and then take the loss out of the differences and feed it back through the CNN."
   ]
  },
  {
   "cell_type": "markdown",
   "metadata": {
    "colab_type": "text",
    "id": "dKYw0eSIBysI"
   },
   "source": [
    "### Use the encoded features to train another classifier"
   ]
  },
  {
   "cell_type": "code",
   "execution_count": 16,
   "metadata": {
    "colab": {
     "base_uri": "https://localhost:8080/",
     "height": 90
    },
    "colab_type": "code",
    "id": "ogx_t89qBysJ",
    "outputId": "c18c1d8a-3b8a-42b4-dcda-e1bc436a255b"
   },
   "outputs": [
    {
     "name": "stdout",
     "output_type": "stream",
     "text": [
      "(60000, 50)\n",
      "(60000, 10)\n",
      "(10000, 50)\n",
      "(10000, 10)\n"
     ]
    }
   ],
   "source": [
    "X_train_feat = encoder.predict(X_train_flat)\n",
    "X_test_feat = encoder.predict(X_test_flat)\n",
    "\n",
    "# Normalization (standardization) of training and test sets\n",
    "scaler = StandardScaler()  \n",
    "scaler.fit(X_train_feat)\n",
    "X_train_feat = scaler.transform(X_train_feat)  \n",
    "X_test_feat = scaler.transform(X_test_feat)\n",
    "\n",
    "print(X_train_feat.shape)\n",
    "print(Y_train.shape)\n",
    "print(X_test_feat.shape)\n",
    "print(Y_test.shape)"
   ]
  },
  {
   "cell_type": "code",
   "execution_count": 18,
   "metadata": {
    "colab": {
     "base_uri": "https://localhost:8080/",
     "height": 90
    },
    "colab_type": "code",
    "id": "egc0lrZNBysM",
    "outputId": "9f102a28-4480-4c0b-cbd1-c7bb64de2dca"
   },
   "outputs": [
    {
     "name": "stdout",
     "output_type": "stream",
     "text": [
      "[LibSVM]"
     ]
    },
    {
     "data": {
      "text/plain": [
       "SVC(C=1.0, cache_size=7000, class_weight=None, coef0=0.0,\n",
       "    decision_function_shape='ovr', degree=3, gamma='auto_deprecated',\n",
       "    kernel='linear', max_iter=-1, probability=False, random_state=None,\n",
       "    shrinking=True, tol=0.001, verbose=True)"
      ]
     },
     "execution_count": 18,
     "metadata": {
      "tags": []
     },
     "output_type": "execute_result"
    }
   ],
   "source": [
    "# using the features to train a SVM\n",
    "clf = SVC(kernel='linear', cache_size=7000, verbose=True)\n",
    "clf.fit(X_train_feat, train_labels)"
   ]
  },
  {
   "cell_type": "code",
   "execution_count": 19,
   "metadata": {
    "colab": {
     "base_uri": "https://localhost:8080/",
     "height": 417
    },
    "colab_type": "code",
    "id": "ioDQOWN9BysP",
    "outputId": "12a1bdbd-66b7-4e9c-c83d-ef4a071e4e08"
   },
   "outputs": [
    {
     "name": "stdout",
     "output_type": "stream",
     "text": [
      "Classification report for classifier SVC(C=1.0, cache_size=7000, class_weight=None, coef0=0.0,\n",
      "    decision_function_shape='ovr', degree=3, gamma='auto_deprecated',\n",
      "    kernel='linear', max_iter=-1, probability=False, random_state=None,\n",
      "    shrinking=True, tol=0.001, verbose=True):\n",
      "              precision    recall  f1-score   support\n",
      "\n",
      "           0       0.92      0.91      0.91      1000\n",
      "           1       0.90      0.88      0.89      1000\n",
      "           2       0.91      0.92      0.92      1000\n",
      "           3       0.92      0.91      0.92      1000\n",
      "           4       0.90      0.88      0.89      1000\n",
      "           5       0.90      0.94      0.92      1000\n",
      "           6       0.90      0.88      0.89      1000\n",
      "           7       0.92      0.89      0.90      1000\n",
      "           8       0.88      0.86      0.87      1000\n",
      "           9       0.86      0.93      0.90      1000\n",
      "\n",
      "    accuracy                           0.90     10000\n",
      "   macro avg       0.90      0.90      0.90     10000\n",
      "weighted avg       0.90      0.90      0.90     10000\n",
      "\n",
      "\n"
     ]
    }
   ],
   "source": [
    "y_pred = clf.predict(X_test_feat)\n",
    "\n",
    "# Print classification results with confusion matrix\n",
    "print(\"Classification report for classifier %s:\\n%s\\n\" %\n",
    "      (clf, metrics.classification_report(test_labels, y_pred)))\n",
    "# print(\"\\nConfusion matrix:\\n%s\" % metrics.confusion_matrix(test_labels, y_pred))\n",
    "#Apperently the SVM classificator works quite good with the encoded data, therefore\n",
    "#one can use it easily"
   ]
  },
  {
   "cell_type": "markdown",
   "metadata": {
    "colab_type": "text",
    "id": "KVONoQrRBysU"
   },
   "source": [
    "## Create a conv autoencoder"
   ]
  },
  {
   "cell_type": "code",
   "execution_count": 33,
   "metadata": {
    "colab": {
     "base_uri": "https://localhost:8080/",
     "height": 563
    },
    "colab_type": "code",
    "id": "XXyTAj-PBysW",
    "outputId": "02c9b8d4-56e6-4306-e052-fc1078690994"
   },
   "outputs": [
    {
     "name": "stdout",
     "output_type": "stream",
     "text": [
      "Model: \"model_4\"\n",
      "_________________________________________________________________\n",
      "Layer (type)                 Output Shape              Param #   \n",
      "=================================================================\n",
      "input_11 (InputLayer)        [(None, 28, 28, 1)]       0         \n",
      "_________________________________________________________________\n",
      "conv2d_17 (Conv2D)           (None, 28, 28, 32)        320       \n",
      "_________________________________________________________________\n",
      "max_pooling2d_12 (MaxPooling (None, 14, 14, 32)        0         \n",
      "_________________________________________________________________\n",
      "conv2d_18 (Conv2D)           (None, 14, 14, 64)        18496     \n",
      "_________________________________________________________________\n",
      "max_pooling2d_13 (MaxPooling (None, 7, 7, 64)          0         \n",
      "_________________________________________________________________\n",
      "conv2d_19 (Conv2D)           (None, 7, 7, 128)         73856     \n",
      "_________________________________________________________________\n",
      "conv2d_20 (Conv2D)           (None, 7, 7, 128)         147584    \n",
      "_________________________________________________________________\n",
      "up_sampling2d_2 (UpSampling2 (None, 14, 14, 128)       0         \n",
      "_________________________________________________________________\n",
      "conv2d_21 (Conv2D)           (None, 14, 14, 64)        73792     \n",
      "_________________________________________________________________\n",
      "up_sampling2d_3 (UpSampling2 (None, 28, 28, 64)        0         \n",
      "_________________________________________________________________\n",
      "conv2d_22 (Conv2D)           (None, 28, 28, 1)         577       \n",
      "=================================================================\n",
      "Total params: 314,625\n",
      "Trainable params: 314,625\n",
      "Non-trainable params: 0\n",
      "_________________________________________________________________\n"
     ]
    }
   ],
   "source": [
    "input_img = Input(shape=(28,28,1))\n",
    "# encoder\n",
    "conv1 = Conv2D(filters=32, kernel_size=(3, 3), padding='same')(input_img) #28 x 28 x 32\n",
    "pool1 = MaxPooling2D(pool_size=(2, 2))(conv1) #14 x 14 x 32\n",
    "conv2 = Conv2D(filters=64, kernel_size=(3, 3), padding='same')(pool1) #14 x 14 x 64\n",
    "pool2 = MaxPooling2D(pool_size=(2, 2))(conv2) #7 x 7 x 64\n",
    "conv3 = Conv2D(filters=128, kernel_size=(3, 3), padding='same')(pool2) #7 x 7 x 128 (small and thick)\n",
    "# decoder\n",
    "conv4 = Conv2D(filters=128, kernel_size=(3, 3), padding='same')(conv3) #7 x 7 x 128\n",
    "up1 = UpSampling2D(size=(2,2))(conv4) # 14 x 14 x 128 (UpSampling2D())\n",
    "conv5 = Conv2D(filters=64, kernel_size=(3, 3), padding='same')(up1) # 14 x 14 x 64\n",
    "up2 = UpSampling2D(size=(2,2))(conv5) # 28 x 28 x 64\n",
    "decoded =  Conv2D(filters=1, kernel_size=(3, 3), padding='same')(up2) # 28 x 28 x 1\n",
    "# autoencoder\n",
    "autoencoder = Model(inputs=input_img, outputs=decoded)\n",
    "autoencoder.compile(optimizer='adam',\n",
    "                    loss='binary_crossentropy',\n",
    "                    metrics=['accuracy'])\n",
    "autoencoder.summary()\n",
    "#it would not make sence to take the output of the encoder as compiled images in this case it would be the output of\n",
    "#conv3 because it has a 128 filters and not only 1"
   ]
  },
  {
   "cell_type": "code",
   "execution_count": 36,
   "metadata": {
    "colab": {
     "base_uri": "https://localhost:8080/",
     "height": 1000
    },
    "colab_type": "code",
    "id": "5yViRGcPBysZ",
    "outputId": "57915236-c540-45b9-957c-236223883b60"
   },
   "outputs": [
    {
     "name": "stdout",
     "output_type": "stream",
     "text": [
      "Train on 60000 samples, validate on 10000 samples\n",
      "Epoch 1/30\n",
      "60000/60000 [==============================] - 15s 245us/sample - loss: 0.4131 - accuracy: 0.5674 - val_loss: 0.2265 - val_accuracy: 0.6018\n",
      "Epoch 2/30\n",
      "60000/60000 [==============================] - 11s 177us/sample - loss: 0.2756 - accuracy: 0.5786 - val_loss: 0.2127 - val_accuracy: 0.6044\n",
      "Epoch 3/30\n",
      "60000/60000 [==============================] - 11s 178us/sample - loss: 0.2649 - accuracy: 0.5822 - val_loss: 0.2601 - val_accuracy: 0.5933\n",
      "Epoch 4/30\n",
      "60000/60000 [==============================] - 11s 178us/sample - loss: 0.2472 - accuracy: 0.5849 - val_loss: 0.2000 - val_accuracy: 0.6070\n",
      "Epoch 5/30\n",
      "60000/60000 [==============================] - 11s 178us/sample - loss: 0.2242 - accuracy: 0.5901 - val_loss: 0.2075 - val_accuracy: 0.6070\n",
      "Epoch 6/30\n",
      "60000/60000 [==============================] - 11s 179us/sample - loss: 0.1994 - accuracy: 0.5930 - val_loss: 0.1780 - val_accuracy: 0.6093\n",
      "Epoch 7/30\n",
      "60000/60000 [==============================] - 11s 178us/sample - loss: 0.2688 - accuracy: 0.5812 - val_loss: 0.1976 - val_accuracy: 0.6074\n",
      "Epoch 8/30\n",
      "60000/60000 [==============================] - 11s 177us/sample - loss: 0.2751 - accuracy: 0.5791 - val_loss: 0.1922 - val_accuracy: 0.6079\n",
      "Epoch 9/30\n",
      "60000/60000 [==============================] - 11s 178us/sample - loss: 0.3009 - accuracy: 0.5793 - val_loss: 0.3354 - val_accuracy: 0.5766\n",
      "Epoch 10/30\n",
      "60000/60000 [==============================] - 11s 177us/sample - loss: 0.2791 - accuracy: 0.5770 - val_loss: 0.2541 - val_accuracy: 0.5996\n",
      "Epoch 11/30\n",
      "60000/60000 [==============================] - 11s 178us/sample - loss: 0.2103 - accuracy: 0.5919 - val_loss: 0.2211 - val_accuracy: 0.6055\n",
      "Epoch 12/30\n",
      "60000/60000 [==============================] - 11s 178us/sample - loss: 0.2189 - accuracy: 0.5908 - val_loss: 0.1802 - val_accuracy: 0.6092\n",
      "Epoch 13/30\n",
      "60000/60000 [==============================] - 11s 177us/sample - loss: 0.2525 - accuracy: 0.5842 - val_loss: 0.2095 - val_accuracy: 0.6061\n",
      "Epoch 14/30\n",
      "60000/60000 [==============================] - 11s 180us/sample - loss: 0.2039 - accuracy: 0.5925 - val_loss: 0.1813 - val_accuracy: 0.6092\n",
      "Epoch 15/30\n",
      "60000/60000 [==============================] - 11s 178us/sample - loss: 0.2000 - accuracy: 0.5929 - val_loss: 0.2044 - val_accuracy: 0.6064\n",
      "Epoch 16/30\n",
      "60000/60000 [==============================] - 11s 179us/sample - loss: 0.1915 - accuracy: 0.5936 - val_loss: 0.1678 - val_accuracy: 0.6099\n",
      "Epoch 17/30\n",
      "60000/60000 [==============================] - 11s 178us/sample - loss: 0.2409 - accuracy: 0.5866 - val_loss: 0.2747 - val_accuracy: 0.5936\n",
      "Epoch 18/30\n",
      "60000/60000 [==============================] - 11s 177us/sample - loss: 0.2189 - accuracy: 0.5898 - val_loss: 0.1762 - val_accuracy: 0.6094\n",
      "Epoch 19/30\n",
      "60000/60000 [==============================] - 10s 174us/sample - loss: 0.1926 - accuracy: 0.5937 - val_loss: 0.2260 - val_accuracy: 0.6040\n",
      "Epoch 20/30\n",
      "60000/60000 [==============================] - 10s 174us/sample - loss: 0.2681 - accuracy: 0.5815 - val_loss: 0.2333 - val_accuracy: 0.6024\n",
      "Epoch 21/30\n",
      "60000/60000 [==============================] - 10s 175us/sample - loss: 0.2077 - accuracy: 0.5920 - val_loss: 0.1757 - val_accuracy: 0.6095\n",
      "Epoch 22/30\n",
      "60000/60000 [==============================] - 10s 174us/sample - loss: 0.2399 - accuracy: 0.5869 - val_loss: 0.1821 - val_accuracy: 0.6090\n",
      "Epoch 23/30\n",
      "60000/60000 [==============================] - 10s 173us/sample - loss: 0.2915 - accuracy: 0.5800 - val_loss: 0.2195 - val_accuracy: 0.6057\n",
      "Epoch 24/30\n",
      "60000/60000 [==============================] - 10s 173us/sample - loss: 0.3570 - accuracy: 0.5798 - val_loss: 0.7660 - val_accuracy: 0.5608\n",
      "Epoch 25/30\n",
      "60000/60000 [==============================] - 10s 174us/sample - loss: 0.3345 - accuracy: 0.5791 - val_loss: 0.1957 - val_accuracy: 0.6079\n",
      "Epoch 26/30\n",
      "60000/60000 [==============================] - 10s 174us/sample - loss: 0.2070 - accuracy: 0.5922 - val_loss: 0.1956 - val_accuracy: 0.6088\n",
      "Epoch 27/30\n",
      "60000/60000 [==============================] - 10s 173us/sample - loss: 0.1932 - accuracy: 0.5936 - val_loss: 0.1716 - val_accuracy: 0.6097\n",
      "Epoch 28/30\n",
      "60000/60000 [==============================] - 10s 174us/sample - loss: 0.1906 - accuracy: 0.5938 - val_loss: 0.2420 - val_accuracy: 0.6040\n",
      "Epoch 29/30\n",
      "60000/60000 [==============================] - 10s 174us/sample - loss: 0.1929 - accuracy: 0.5936 - val_loss: 0.1722 - val_accuracy: 0.6097\n",
      "Epoch 30/30\n",
      "60000/60000 [==============================] - 10s 174us/sample - loss: 0.2579 - accuracy: 0.5839 - val_loss: 0.2697 - val_accuracy: 0.5993\n"
     ]
    }
   ],
   "source": [
    "log = autoencoder.fit(X_train,X_train, validation_data=(X_test, X_test),\n",
    "              batch_size=256,\n",
    "              shuffle= True,\n",
    "              epochs=30)"
   ]
  },
  {
   "cell_type": "markdown",
   "metadata": {
    "colab_type": "text",
    "id": "AIxNc06vBysd"
   },
   "source": [
    "### Predict on test data"
   ]
  },
  {
   "cell_type": "code",
   "execution_count": 37,
   "metadata": {
    "colab": {
     "base_uri": "https://localhost:8080/",
     "height": 35
    },
    "colab_type": "code",
    "id": "-ZuGCQkVBysd",
    "outputId": "28bff78b-7375-4817-9866-7fd1ddfde2a1"
   },
   "outputs": [
    {
     "name": "stdout",
     "output_type": "stream",
     "text": [
      "(10000, 28, 28, 1)\n"
     ]
    }
   ],
   "source": [
    "decoded_imgs = autoencoder.predict(X_test, verbose=0)\n",
    "print(decoded_imgs.shape)"
   ]
  },
  {
   "cell_type": "code",
   "execution_count": 38,
   "metadata": {
    "colab": {
     "base_uri": "https://localhost:8080/",
     "height": 248
    },
    "colab_type": "code",
    "id": "WuV9Sq9wBysg",
    "outputId": "d9658939-f5cd-4d39-9397-7fba99e2245e"
   },
   "outputs": [
    {
     "data": {
      "image/png": "[encoded data removed]",
      "text/plain": [
       "<Figure size 1440x288 with 20 Axes>"
      ]
     },
     "metadata": {
      "tags": []
     },
     "output_type": "display_data"
    }
   ],
   "source": [
    "plot_result(X_test_flat,decoded_imgs)"
   ]
  },
  {
   "cell_type": "markdown",
   "metadata": {
    "colab_type": "text",
    "id": "WA_GuDJeBysk"
   },
   "source": [
    "## Denoising autoencoder\n",
    "First add some noise."
   ]
  },
  {
   "cell_type": "code",
   "execution_count": 0,
   "metadata": {
    "colab": {},
    "colab_type": "code",
    "id": "Tp4V2ts-Bysm"
   },
   "outputs": [],
   "source": [
    "noise_factor = 0.4 #chose a noise factor between 0.0 and 1.0\n",
    "X_train_noisy = X_train + noise_factor * np.random.normal(loc=0.0, scale=1.0, size=X_train.shape)\n",
    "X_test_noisy = X_test + noise_factor * np.random.normal(loc=0.0, scale=1.0, size=X_test.shape)\n",
    "X_train_noisy = np.clip(X_train_noisy, 0., 1.)\n",
    "X_test_noisy = np.clip(X_test_noisy, 0., 1.)"
   ]
  },
  {
   "cell_type": "code",
   "execution_count": 40,
   "metadata": {
    "colab": {
     "base_uri": "https://localhost:8080/",
     "height": 194
    },
    "colab_type": "code",
    "id": "GX9hw9sTBysp",
    "outputId": "863dfa60-83e4-41e6-c238-debd3266b95e"
   },
   "outputs": [
    {
     "data": {
      "text/plain": [
       "<matplotlib.image.AxesImage at 0x7f08884174e0>"
      ]
     },
     "execution_count": 40,
     "metadata": {
      "tags": []
     },
     "output_type": "execute_result"
    },
    {
     "data": {
      "image/png": "[encoded data removed]",
      "text/plain": [
       "<Figure size 360x360 with 2 Axes>"
      ]
     },
     "metadata": {
      "tags": []
     },
     "output_type": "display_data"
    }
   ],
   "source": [
    "plt.figure(figsize=[5,5])\n",
    "\n",
    "# Display the first image in training data\n",
    "plt.subplot(121)\n",
    "curr_img = np.reshape(X_train_noisy[1], (28,28))\n",
    "plt.imshow(curr_img, cmap='gray')\n",
    "\n",
    "# Display the first image in testing data\n",
    "plt.subplot(122)\n",
    "curr_img = np.reshape(X_test_noisy[1], (28,28))\n",
    "plt.imshow(curr_img, cmap='gray')"
   ]
  },
  {
   "cell_type": "code",
   "execution_count": 41,
   "metadata": {
    "colab": {
     "base_uri": "https://localhost:8080/",
     "height": 563
    },
    "colab_type": "code",
    "id": "eFJ2B5sgByss",
    "outputId": "65554699-bec2-4fb9-97f6-b4a77ed7aec3"
   },
   "outputs": [
    {
     "name": "stdout",
     "output_type": "stream",
     "text": [
      "Model: \"model_5\"\n",
      "_________________________________________________________________\n",
      "Layer (type)                 Output Shape              Param #   \n",
      "=================================================================\n",
      "input_12 (InputLayer)        [(None, 28, 28, 1)]       0         \n",
      "_________________________________________________________________\n",
      "conv2d_23 (Conv2D)           (None, 28, 28, 40)        400       \n",
      "_________________________________________________________________\n",
      "max_pooling2d_14 (MaxPooling (None, 14, 14, 40)        0         \n",
      "_________________________________________________________________\n",
      "conv2d_24 (Conv2D)           (None, 14, 14, 80)        28880     \n",
      "_________________________________________________________________\n",
      "max_pooling2d_15 (MaxPooling (None, 7, 7, 80)          0         \n",
      "_________________________________________________________________\n",
      "conv2d_25 (Conv2D)           (None, 7, 7, 160)         115360    \n",
      "_________________________________________________________________\n",
      "conv2d_26 (Conv2D)           (None, 7, 7, 160)         230560    \n",
      "_________________________________________________________________\n",
      "up_sampling2d_4 (UpSampling2 (None, 14, 14, 160)       0         \n",
      "_________________________________________________________________\n",
      "conv2d_27 (Conv2D)           (None, 14, 14, 60)        86460     \n",
      "_________________________________________________________________\n",
      "up_sampling2d_5 (UpSampling2 (None, 28, 28, 60)        0         \n",
      "_________________________________________________________________\n",
      "conv2d_28 (Conv2D)           (None, 28, 28, 1)         541       \n",
      "=================================================================\n",
      "Total params: 462,201\n",
      "Trainable params: 462,201\n",
      "Non-trainable params: 0\n",
      "_________________________________________________________________\n"
     ]
    }
   ],
   "source": [
    "# REDEFINE HERE A CONV AUTOENCODER FOR THE DENOISING WITH A SIMILAR ARCHITECTURE\n",
    "input_img = Input(shape=(28,28,1))\n",
    "# encoder\n",
    "conv1 = Conv2D(filters=40, kernel_size=(3, 3), padding='same')(input_img) #28 x 28 x 32\n",
    "pool1 = MaxPooling2D(pool_size=(2, 2))(conv1) #14 x 14 x 32\n",
    "conv2 = Conv2D(filters=80, kernel_size=(3, 3), padding='same')(pool1) #14 x 14 x 64\n",
    "pool2 = MaxPooling2D(pool_size=(2, 2))(conv2) #7 x 7 x 64\n",
    "conv3 = Conv2D(filters=160, kernel_size=(3, 3), padding='same')(pool2) #7 x 7 x 128 (small and thick)\n",
    "# decoder\n",
    "conv4 = Conv2D(filters=160, kernel_size=(3, 3), padding='same')(conv3) #7 x 7 x 128\n",
    "up1 = UpSampling2D(size=(2,2))(conv4) # 14 x 14 x 128 (UpSampling2D())\n",
    "conv5 = Conv2D(filters=60, kernel_size=(3, 3), padding='same')(up1) # 14 x 14 x 64\n",
    "up2 = UpSampling2D(size=(2,2))(conv5) # 28 x 28 x 64\n",
    "decoded =  Conv2D(filters=1, kernel_size=(3, 3), padding='same')(up2) # 28 x 28 x 1\n",
    "# autoencoder\n",
    "autoencoder = Model(inputs=input_img, outputs=decoded)\n",
    "autoencoder.compile(optimizer='adam',\n",
    "                    loss='mse',\n",
    "                    metrics=['accuracy'])\n",
    "autoencoder.summary()"
   ]
  },
  {
   "cell_type": "code",
   "execution_count": 42,
   "metadata": {
    "colab": {
     "base_uri": "https://localhost:8080/",
     "height": 53
    },
    "colab_type": "code",
    "id": "m0-HIqYDBysu",
    "outputId": "90fe7a7c-a5e8-4133-ffe2-d1a036da7e7f"
   },
   "outputs": [
    {
     "name": "stdout",
     "output_type": "stream",
     "text": [
      "Train on 60000 samples, validate on 10000 samples\n",
      "60000/60000 [==============================] - 17s 280us/sample - loss: 0.0586 - accuracy: 0.5778 - val_loss: 0.0313 - val_accuracy: 0.6059\n"
     ]
    }
   ],
   "source": [
    "# train on the noisy images and use as target the original clean images\n",
    "log = autoencoder.fit(X_train_noisy, X_train, batch_size=128, epochs=30,\n",
    "                        verbose=1, validation_data=(X_test_noisy, X_test))"
   ]
  },
  {
   "cell_type": "code",
   "execution_count": 43,
   "metadata": {
    "colab": {
     "base_uri": "https://localhost:8080/",
     "height": 35
    },
    "colab_type": "code",
    "id": "jCvbLBWgBysw",
    "outputId": "59bb32ae-e503-4087-f73d-7485ea4f11a4"
   },
   "outputs": [
    {
     "name": "stdout",
     "output_type": "stream",
     "text": [
      "(10000, 28, 28, 1)\n"
     ]
    }
   ],
   "source": [
    "decoded_imgs = autoencoder.predict(X_test_noisy, verbose=0)\n",
    "print(decoded_imgs.shape)"
   ]
  },
  {
   "cell_type": "code",
   "execution_count": 44,
   "metadata": {
    "colab": {
     "base_uri": "https://localhost:8080/",
     "height": 248
    },
    "colab_type": "code",
    "id": "Qb7zx9EvBys0",
    "outputId": "6c0448cc-d954-45d6-bee2-b78de1481721"
   },
   "outputs": [
    {
     "data": {
      "image/png": "[encoded data removed]",
      "text/plain": [
       "<Figure size 1440x288 with 20 Axes>"
      ]
     },
     "metadata": {
      "tags": []
     },
     "output_type": "display_data"
    }
   ],
   "source": [
    "plot_result(X_test_noisy,decoded_imgs)"
   ]
  },
  {
   "cell_type": "code",
   "execution_count": 0,
   "metadata": {
    "colab": {},
    "colab_type": "code",
    "id": "njVQE9CCFBAC"
   },
   "outputs": [],
   "source": []
  }
 ],
 "metadata": {
  "accelerator": "GPU",
  "colab": {
   "collapsed_sections": [],
   "name": "ex3-notMNIST-auto-encoder-stud.ipynb",
   "provenance": []
  },
  "kernelspec": {
   "display_name": "Python 3",
   "language": "python",
   "name": "python3"
  },
  "language_info": {
   "codemirror_mode": {
    "name": "ipython",
    "version": 3
   },
   "file_extension": ".py",
   "mimetype": "text/x-python",
   "name": "python",
   "nbconvert_exporter": "python",
   "pygments_lexer": "ipython3",
   "version": "3.7.4"
  }
 },
 "nbformat": 4,
 "nbformat_minor": 1
}
